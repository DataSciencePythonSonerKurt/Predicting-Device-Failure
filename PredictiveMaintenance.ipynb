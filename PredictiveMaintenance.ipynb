{
  "nbformat": 4,
  "nbformat_minor": 0,
  "metadata": {
    "colab": {
      "name": "PredictiveMaintenance.ipynb",
      "provenance": [],
      "collapsed_sections": []
    },
    "kernelspec": {
      "name": "python3",
      "display_name": "Python 3"
    },
    "language_info": {
      "name": "python"
    }
  },
  "cells": [
    {
      "cell_type": "code",
      "metadata": {
        "id": "u3iXmb5UL_Zw"
      },
      "source": [
        "import pandas as pd\n",
        "\n",
        "import pandas as pd\n",
        "import datetime as dt\n",
        "import pandas_profiling\n",
        "\n",
        "import numpy as np\n",
        "import matplotlib.pyplot as plt\n",
        "import seaborn as sns\n",
        "import warnings\n",
        "warnings.filterwarnings(\"ignore\")\n",
        "\n",
        "#Classification\n",
        "from sklearn.naive_bayes import MultinomialNB,GaussianNB,BernoulliNB\n",
        "from sklearn.neighbors import KNeighborsClassifier\n",
        "from sklearn.svm import SVC\n",
        "from sklearn.tree import DecisionTreeClassifier\n",
        "from sklearn.linear_model import LogisticRegression\n",
        "from sklearn.ensemble import GradientBoostingClassifier\n",
        "from sklearn.ensemble import AdaBoostClassifier\n",
        "from xgboost import XGBClassifier\n",
        "from sklearn.ensemble import RandomForestClassifier\n",
        "from sklearn.metrics import classification_report,accuracy_score,confusion_matrix,precision_score,recall_score,f1_score\n",
        "from sklearn.model_selection import train_test_split"
      ],
      "execution_count": 1,
      "outputs": []
    },
    {
      "cell_type": "code",
      "metadata": {
        "id": "ZelnrsQVMc8i"
      },
      "source": [
        "df=pd.read_csv(\"failure.csv\")"
      ],
      "execution_count": 3,
      "outputs": []
    },
    {
      "cell_type": "code",
      "metadata": {
        "id": "TJLhHyMuMdEh"
      },
      "source": [
        "df1=df.copy()"
      ],
      "execution_count": 4,
      "outputs": []
    },
    {
      "cell_type": "code",
      "metadata": {
        "colab": {
          "base_uri": "https://localhost:8080/"
        },
        "id": "vEQBRkc1MdKO",
        "outputId": "e4678813-9931-4d6c-af73-045000a731a1"
      },
      "source": [
        "defaultid = df1[df1.failure == 1].device.unique()    \n",
        "print(\"1168 tekil device da fail olanlar=\",df1[df1.device.isin(defaultid)].device.nunique())\n",
        "print(\"1168 tekil device da fail olmayanlar=\",df1[~df1.device.isin(defaultid)].device.nunique())\n",
        "print(\"Toplam tekil device=\", df1.device.nunique())"
      ],
      "execution_count": 5,
      "outputs": [
        {
          "output_type": "stream",
          "text": [
            "1168 tekil device da fail olanlar= 106\n",
            "1168 tekil device da fail olmayanlar= 1062\n",
            "Toplam tekil device= 1168\n"
          ],
          "name": "stdout"
        }
      ]
    },
    {
      "cell_type": "code",
      "metadata": {
        "colab": {
          "base_uri": "https://localhost:8080/",
          "height": 415
        },
        "id": "89ZlNnddMdNp",
        "outputId": "9ec80fd0-a751-4178-d554-71f04d363807"
      },
      "source": [
        "df1[(df1['device']=='S1F0LD15') & (df1['failure']==0)]"
      ],
      "execution_count": 6,
      "outputs": [
        {
          "output_type": "execute_result",
          "data": {
            "text/html": [
              "<div>\n",
              "<style scoped>\n",
              "    .dataframe tbody tr th:only-of-type {\n",
              "        vertical-align: middle;\n",
              "    }\n",
              "\n",
              "    .dataframe tbody tr th {\n",
              "        vertical-align: top;\n",
              "    }\n",
              "\n",
              "    .dataframe thead th {\n",
              "        text-align: right;\n",
              "    }\n",
              "</style>\n",
              "<table border=\"1\" class=\"dataframe\">\n",
              "  <thead>\n",
              "    <tr style=\"text-align: right;\">\n",
              "      <th></th>\n",
              "      <th>date</th>\n",
              "      <th>device</th>\n",
              "      <th>failure</th>\n",
              "      <th>attribute1</th>\n",
              "      <th>attribute2</th>\n",
              "      <th>attribute3</th>\n",
              "      <th>attribute4</th>\n",
              "      <th>attribute5</th>\n",
              "      <th>attribute6</th>\n",
              "      <th>attribute7</th>\n",
              "      <th>attribute8</th>\n",
              "      <th>attribute9</th>\n",
              "    </tr>\n",
              "  </thead>\n",
              "  <tbody>\n",
              "    <tr>\n",
              "      <th>125</th>\n",
              "      <td>2015-01-01</td>\n",
              "      <td>S1F0LD15</td>\n",
              "      <td>0</td>\n",
              "      <td>142117744</td>\n",
              "      <td>0</td>\n",
              "      <td>0</td>\n",
              "      <td>0</td>\n",
              "      <td>6</td>\n",
              "      <td>281773</td>\n",
              "      <td>0</td>\n",
              "      <td>0</td>\n",
              "      <td>0</td>\n",
              "    </tr>\n",
              "    <tr>\n",
              "      <th>1288</th>\n",
              "      <td>2015-01-02</td>\n",
              "      <td>S1F0LD15</td>\n",
              "      <td>0</td>\n",
              "      <td>163549216</td>\n",
              "      <td>0</td>\n",
              "      <td>0</td>\n",
              "      <td>0</td>\n",
              "      <td>6</td>\n",
              "      <td>283114</td>\n",
              "      <td>0</td>\n",
              "      <td>0</td>\n",
              "      <td>0</td>\n",
              "    </tr>\n",
              "    <tr>\n",
              "      <th>2451</th>\n",
              "      <td>2015-01-03</td>\n",
              "      <td>S1F0LD15</td>\n",
              "      <td>0</td>\n",
              "      <td>185697360</td>\n",
              "      <td>0</td>\n",
              "      <td>0</td>\n",
              "      <td>0</td>\n",
              "      <td>6</td>\n",
              "      <td>284506</td>\n",
              "      <td>0</td>\n",
              "      <td>0</td>\n",
              "      <td>0</td>\n",
              "    </tr>\n",
              "    <tr>\n",
              "      <th>3614</th>\n",
              "      <td>2015-01-04</td>\n",
              "      <td>S1F0LD15</td>\n",
              "      <td>0</td>\n",
              "      <td>209328944</td>\n",
              "      <td>0</td>\n",
              "      <td>0</td>\n",
              "      <td>0</td>\n",
              "      <td>6</td>\n",
              "      <td>285842</td>\n",
              "      <td>0</td>\n",
              "      <td>0</td>\n",
              "      <td>0</td>\n",
              "    </tr>\n",
              "    <tr>\n",
              "      <th>4775</th>\n",
              "      <td>2015-01-05</td>\n",
              "      <td>S1F0LD15</td>\n",
              "      <td>0</td>\n",
              "      <td>232770528</td>\n",
              "      <td>0</td>\n",
              "      <td>0</td>\n",
              "      <td>0</td>\n",
              "      <td>6</td>\n",
              "      <td>287163</td>\n",
              "      <td>0</td>\n",
              "      <td>0</td>\n",
              "      <td>0</td>\n",
              "    </tr>\n",
              "    <tr>\n",
              "      <th>...</th>\n",
              "      <td>...</td>\n",
              "      <td>...</td>\n",
              "      <td>...</td>\n",
              "      <td>...</td>\n",
              "      <td>...</td>\n",
              "      <td>...</td>\n",
              "      <td>...</td>\n",
              "      <td>...</td>\n",
              "      <td>...</td>\n",
              "      <td>...</td>\n",
              "      <td>...</td>\n",
              "      <td>...</td>\n",
              "    </tr>\n",
              "    <tr>\n",
              "      <th>103036</th>\n",
              "      <td>2015-07-15</td>\n",
              "      <td>S1F0LD15</td>\n",
              "      <td>0</td>\n",
              "      <td>214370320</td>\n",
              "      <td>216</td>\n",
              "      <td>0</td>\n",
              "      <td>1</td>\n",
              "      <td>6</td>\n",
              "      <td>331547</td>\n",
              "      <td>0</td>\n",
              "      <td>0</td>\n",
              "      <td>0</td>\n",
              "    </tr>\n",
              "    <tr>\n",
              "      <th>103375</th>\n",
              "      <td>2015-07-16</td>\n",
              "      <td>S1F0LD15</td>\n",
              "      <td>0</td>\n",
              "      <td>10253680</td>\n",
              "      <td>216</td>\n",
              "      <td>0</td>\n",
              "      <td>1</td>\n",
              "      <td>6</td>\n",
              "      <td>331556</td>\n",
              "      <td>0</td>\n",
              "      <td>0</td>\n",
              "      <td>0</td>\n",
              "    </tr>\n",
              "    <tr>\n",
              "      <th>103714</th>\n",
              "      <td>2015-07-17</td>\n",
              "      <td>S1F0LD15</td>\n",
              "      <td>0</td>\n",
              "      <td>37417016</td>\n",
              "      <td>216</td>\n",
              "      <td>0</td>\n",
              "      <td>1</td>\n",
              "      <td>6</td>\n",
              "      <td>331556</td>\n",
              "      <td>0</td>\n",
              "      <td>0</td>\n",
              "      <td>0</td>\n",
              "    </tr>\n",
              "    <tr>\n",
              "      <th>104053</th>\n",
              "      <td>2015-07-18</td>\n",
              "      <td>S1F0LD15</td>\n",
              "      <td>0</td>\n",
              "      <td>37921400</td>\n",
              "      <td>240</td>\n",
              "      <td>0</td>\n",
              "      <td>1</td>\n",
              "      <td>6</td>\n",
              "      <td>331556</td>\n",
              "      <td>0</td>\n",
              "      <td>0</td>\n",
              "      <td>0</td>\n",
              "    </tr>\n",
              "    <tr>\n",
              "      <th>104391</th>\n",
              "      <td>2015-07-19</td>\n",
              "      <td>S1F0LD15</td>\n",
              "      <td>0</td>\n",
              "      <td>174926496</td>\n",
              "      <td>392</td>\n",
              "      <td>0</td>\n",
              "      <td>1</td>\n",
              "      <td>6</td>\n",
              "      <td>331568</td>\n",
              "      <td>0</td>\n",
              "      <td>0</td>\n",
              "      <td>0</td>\n",
              "    </tr>\n",
              "  </tbody>\n",
              "</table>\n",
              "<p>200 rows × 12 columns</p>\n",
              "</div>"
            ],
            "text/plain": [
              "              date    device  failure  ...  attribute7  attribute8  attribute9\n",
              "125     2015-01-01  S1F0LD15        0  ...           0           0           0\n",
              "1288    2015-01-02  S1F0LD15        0  ...           0           0           0\n",
              "2451    2015-01-03  S1F0LD15        0  ...           0           0           0\n",
              "3614    2015-01-04  S1F0LD15        0  ...           0           0           0\n",
              "4775    2015-01-05  S1F0LD15        0  ...           0           0           0\n",
              "...            ...       ...      ...  ...         ...         ...         ...\n",
              "103036  2015-07-15  S1F0LD15        0  ...           0           0           0\n",
              "103375  2015-07-16  S1F0LD15        0  ...           0           0           0\n",
              "103714  2015-07-17  S1F0LD15        0  ...           0           0           0\n",
              "104053  2015-07-18  S1F0LD15        0  ...           0           0           0\n",
              "104391  2015-07-19  S1F0LD15        0  ...           0           0           0\n",
              "\n",
              "[200 rows x 12 columns]"
            ]
          },
          "metadata": {
            "tags": []
          },
          "execution_count": 6
        }
      ]
    },
    {
      "cell_type": "code",
      "metadata": {
        "colab": {
          "base_uri": "https://localhost:8080/",
          "height": 79
        },
        "id": "nZzJqpXuMdQn",
        "outputId": "aad6702c-96f3-4e52-f38b-f1a684891472"
      },
      "source": [
        "df1[(df1['device']=='S1F0LD15') & (df1['failure']==1)]"
      ],
      "execution_count": 7,
      "outputs": [
        {
          "output_type": "execute_result",
          "data": {
            "text/html": [
              "<div>\n",
              "<style scoped>\n",
              "    .dataframe tbody tr th:only-of-type {\n",
              "        vertical-align: middle;\n",
              "    }\n",
              "\n",
              "    .dataframe tbody tr th {\n",
              "        vertical-align: top;\n",
              "    }\n",
              "\n",
              "    .dataframe thead th {\n",
              "        text-align: right;\n",
              "    }\n",
              "</style>\n",
              "<table border=\"1\" class=\"dataframe\">\n",
              "  <thead>\n",
              "    <tr style=\"text-align: right;\">\n",
              "      <th></th>\n",
              "      <th>date</th>\n",
              "      <th>device</th>\n",
              "      <th>failure</th>\n",
              "      <th>attribute1</th>\n",
              "      <th>attribute2</th>\n",
              "      <th>attribute3</th>\n",
              "      <th>attribute4</th>\n",
              "      <th>attribute5</th>\n",
              "      <th>attribute6</th>\n",
              "      <th>attribute7</th>\n",
              "      <th>attribute8</th>\n",
              "      <th>attribute9</th>\n",
              "    </tr>\n",
              "  </thead>\n",
              "  <tbody>\n",
              "    <tr>\n",
              "      <th>104729</th>\n",
              "      <td>2015-07-20</td>\n",
              "      <td>S1F0LD15</td>\n",
              "      <td>1</td>\n",
              "      <td>241057576</td>\n",
              "      <td>4360</td>\n",
              "      <td>0</td>\n",
              "      <td>11</td>\n",
              "      <td>6</td>\n",
              "      <td>331568</td>\n",
              "      <td>8</td>\n",
              "      <td>8</td>\n",
              "      <td>0</td>\n",
              "    </tr>\n",
              "  </tbody>\n",
              "</table>\n",
              "</div>"
            ],
            "text/plain": [
              "              date    device  failure  ...  attribute7  attribute8  attribute9\n",
              "104729  2015-07-20  S1F0LD15        1  ...           8           8           0\n",
              "\n",
              "[1 rows x 12 columns]"
            ]
          },
          "metadata": {
            "tags": []
          },
          "execution_count": 7
        }
      ]
    },
    {
      "cell_type": "code",
      "metadata": {
        "id": "A_P1xYONMdTm"
      },
      "source": [
        "df2=df.copy()"
      ],
      "execution_count": 8,
      "outputs": []
    },
    {
      "cell_type": "code",
      "metadata": {
        "id": "Yme0AT4pMdWT"
      },
      "source": [
        "df2['month'] = df2.date.map(lambda x: x.split('-')[1])"
      ],
      "execution_count": 9,
      "outputs": []
    },
    {
      "cell_type": "code",
      "metadata": {
        "colab": {
          "base_uri": "https://localhost:8080/",
          "height": 337
        },
        "id": "bRUKRFOYMdZV",
        "outputId": "0c8addc6-99f3-4d3b-aef0-6a21d7e63d9a"
      },
      "source": [
        "df2[df2['device']=='S1F02MGA']"
      ],
      "execution_count": 10,
      "outputs": [
        {
          "output_type": "execute_result",
          "data": {
            "text/html": [
              "<div>\n",
              "<style scoped>\n",
              "    .dataframe tbody tr th:only-of-type {\n",
              "        vertical-align: middle;\n",
              "    }\n",
              "\n",
              "    .dataframe tbody tr th {\n",
              "        vertical-align: top;\n",
              "    }\n",
              "\n",
              "    .dataframe thead th {\n",
              "        text-align: right;\n",
              "    }\n",
              "</style>\n",
              "<table border=\"1\" class=\"dataframe\">\n",
              "  <thead>\n",
              "    <tr style=\"text-align: right;\">\n",
              "      <th></th>\n",
              "      <th>date</th>\n",
              "      <th>device</th>\n",
              "      <th>failure</th>\n",
              "      <th>attribute1</th>\n",
              "      <th>attribute2</th>\n",
              "      <th>attribute3</th>\n",
              "      <th>attribute4</th>\n",
              "      <th>attribute5</th>\n",
              "      <th>attribute6</th>\n",
              "      <th>attribute7</th>\n",
              "      <th>attribute8</th>\n",
              "      <th>attribute9</th>\n",
              "      <th>month</th>\n",
              "    </tr>\n",
              "  </thead>\n",
              "  <tbody>\n",
              "    <tr>\n",
              "      <th>12</th>\n",
              "      <td>2015-01-01</td>\n",
              "      <td>S1F02MGA</td>\n",
              "      <td>0</td>\n",
              "      <td>44399688</td>\n",
              "      <td>0</td>\n",
              "      <td>266</td>\n",
              "      <td>1</td>\n",
              "      <td>6</td>\n",
              "      <td>399286</td>\n",
              "      <td>0</td>\n",
              "      <td>0</td>\n",
              "      <td>2269</td>\n",
              "      <td>01</td>\n",
              "    </tr>\n",
              "    <tr>\n",
              "      <th>1175</th>\n",
              "      <td>2015-01-02</td>\n",
              "      <td>S1F02MGA</td>\n",
              "      <td>0</td>\n",
              "      <td>143057976</td>\n",
              "      <td>0</td>\n",
              "      <td>266</td>\n",
              "      <td>1</td>\n",
              "      <td>6</td>\n",
              "      <td>399286</td>\n",
              "      <td>0</td>\n",
              "      <td>0</td>\n",
              "      <td>2270</td>\n",
              "      <td>01</td>\n",
              "    </tr>\n",
              "    <tr>\n",
              "      <th>2338</th>\n",
              "      <td>2015-01-03</td>\n",
              "      <td>S1F02MGA</td>\n",
              "      <td>0</td>\n",
              "      <td>133464400</td>\n",
              "      <td>0</td>\n",
              "      <td>266</td>\n",
              "      <td>1</td>\n",
              "      <td>6</td>\n",
              "      <td>399288</td>\n",
              "      <td>0</td>\n",
              "      <td>0</td>\n",
              "      <td>2270</td>\n",
              "      <td>01</td>\n",
              "    </tr>\n",
              "    <tr>\n",
              "      <th>3501</th>\n",
              "      <td>2015-01-04</td>\n",
              "      <td>S1F02MGA</td>\n",
              "      <td>0</td>\n",
              "      <td>237306240</td>\n",
              "      <td>0</td>\n",
              "      <td>266</td>\n",
              "      <td>1</td>\n",
              "      <td>6</td>\n",
              "      <td>399346</td>\n",
              "      <td>0</td>\n",
              "      <td>0</td>\n",
              "      <td>2270</td>\n",
              "      <td>01</td>\n",
              "    </tr>\n",
              "    <tr>\n",
              "      <th>4663</th>\n",
              "      <td>2015-01-05</td>\n",
              "      <td>S1F02MGA</td>\n",
              "      <td>0</td>\n",
              "      <td>111869224</td>\n",
              "      <td>0</td>\n",
              "      <td>266</td>\n",
              "      <td>1</td>\n",
              "      <td>6</td>\n",
              "      <td>400149</td>\n",
              "      <td>0</td>\n",
              "      <td>0</td>\n",
              "      <td>2270</td>\n",
              "      <td>01</td>\n",
              "    </tr>\n",
              "    <tr>\n",
              "      <th>5824</th>\n",
              "      <td>2015-01-06</td>\n",
              "      <td>S1F02MGA</td>\n",
              "      <td>0</td>\n",
              "      <td>136441184</td>\n",
              "      <td>0</td>\n",
              "      <td>266</td>\n",
              "      <td>1</td>\n",
              "      <td>6</td>\n",
              "      <td>401421</td>\n",
              "      <td>0</td>\n",
              "      <td>0</td>\n",
              "      <td>2270</td>\n",
              "      <td>01</td>\n",
              "    </tr>\n",
              "  </tbody>\n",
              "</table>\n",
              "</div>"
            ],
            "text/plain": [
              "            date    device  failure  ...  attribute8  attribute9  month\n",
              "12    2015-01-01  S1F02MGA        0  ...           0        2269     01\n",
              "1175  2015-01-02  S1F02MGA        0  ...           0        2270     01\n",
              "2338  2015-01-03  S1F02MGA        0  ...           0        2270     01\n",
              "3501  2015-01-04  S1F02MGA        0  ...           0        2270     01\n",
              "4663  2015-01-05  S1F02MGA        0  ...           0        2270     01\n",
              "5824  2015-01-06  S1F02MGA        0  ...           0        2270     01\n",
              "\n",
              "[6 rows x 13 columns]"
            ]
          },
          "metadata": {
            "tags": []
          },
          "execution_count": 10
        }
      ]
    },
    {
      "cell_type": "code",
      "metadata": {
        "colab": {
          "base_uri": "https://localhost:8080/",
          "height": 233
        },
        "id": "r8CzmiDUNFoX",
        "outputId": "2559dfdd-4315-47ff-d253-ff5d6a4c84bc"
      },
      "source": [
        "df2[df2['device']=='S1F0166B']"
      ],
      "execution_count": 11,
      "outputs": [
        {
          "output_type": "execute_result",
          "data": {
            "text/html": [
              "<div>\n",
              "<style scoped>\n",
              "    .dataframe tbody tr th:only-of-type {\n",
              "        vertical-align: middle;\n",
              "    }\n",
              "\n",
              "    .dataframe tbody tr th {\n",
              "        vertical-align: top;\n",
              "    }\n",
              "\n",
              "    .dataframe thead th {\n",
              "        text-align: right;\n",
              "    }\n",
              "</style>\n",
              "<table border=\"1\" class=\"dataframe\">\n",
              "  <thead>\n",
              "    <tr style=\"text-align: right;\">\n",
              "      <th></th>\n",
              "      <th>date</th>\n",
              "      <th>device</th>\n",
              "      <th>failure</th>\n",
              "      <th>attribute1</th>\n",
              "      <th>attribute2</th>\n",
              "      <th>attribute3</th>\n",
              "      <th>attribute4</th>\n",
              "      <th>attribute5</th>\n",
              "      <th>attribute6</th>\n",
              "      <th>attribute7</th>\n",
              "      <th>attribute8</th>\n",
              "      <th>attribute9</th>\n",
              "      <th>month</th>\n",
              "    </tr>\n",
              "  </thead>\n",
              "  <tbody>\n",
              "    <tr>\n",
              "      <th>1</th>\n",
              "      <td>2015-01-01</td>\n",
              "      <td>S1F0166B</td>\n",
              "      <td>0</td>\n",
              "      <td>61370680</td>\n",
              "      <td>0</td>\n",
              "      <td>3</td>\n",
              "      <td>0</td>\n",
              "      <td>6</td>\n",
              "      <td>403174</td>\n",
              "      <td>0</td>\n",
              "      <td>0</td>\n",
              "      <td>0</td>\n",
              "      <td>01</td>\n",
              "    </tr>\n",
              "    <tr>\n",
              "      <th>1164</th>\n",
              "      <td>2015-01-02</td>\n",
              "      <td>S1F0166B</td>\n",
              "      <td>0</td>\n",
              "      <td>191946112</td>\n",
              "      <td>0</td>\n",
              "      <td>3</td>\n",
              "      <td>0</td>\n",
              "      <td>6</td>\n",
              "      <td>403174</td>\n",
              "      <td>0</td>\n",
              "      <td>0</td>\n",
              "      <td>0</td>\n",
              "      <td>01</td>\n",
              "    </tr>\n",
              "    <tr>\n",
              "      <th>2327</th>\n",
              "      <td>2015-01-03</td>\n",
              "      <td>S1F0166B</td>\n",
              "      <td>0</td>\n",
              "      <td>77681360</td>\n",
              "      <td>0</td>\n",
              "      <td>3</td>\n",
              "      <td>0</td>\n",
              "      <td>6</td>\n",
              "      <td>403174</td>\n",
              "      <td>0</td>\n",
              "      <td>0</td>\n",
              "      <td>0</td>\n",
              "      <td>01</td>\n",
              "    </tr>\n",
              "    <tr>\n",
              "      <th>3490</th>\n",
              "      <td>2015-01-04</td>\n",
              "      <td>S1F0166B</td>\n",
              "      <td>0</td>\n",
              "      <td>82195688</td>\n",
              "      <td>0</td>\n",
              "      <td>3</td>\n",
              "      <td>0</td>\n",
              "      <td>6</td>\n",
              "      <td>403175</td>\n",
              "      <td>0</td>\n",
              "      <td>0</td>\n",
              "      <td>0</td>\n",
              "      <td>01</td>\n",
              "    </tr>\n",
              "    <tr>\n",
              "      <th>4652</th>\n",
              "      <td>2015-01-05</td>\n",
              "      <td>S1F0166B</td>\n",
              "      <td>0</td>\n",
              "      <td>224339296</td>\n",
              "      <td>0</td>\n",
              "      <td>3</td>\n",
              "      <td>0</td>\n",
              "      <td>6</td>\n",
              "      <td>403812</td>\n",
              "      <td>0</td>\n",
              "      <td>0</td>\n",
              "      <td>0</td>\n",
              "      <td>01</td>\n",
              "    </tr>\n",
              "    <tr>\n",
              "      <th>5813</th>\n",
              "      <td>2015-01-06</td>\n",
              "      <td>S1F0166B</td>\n",
              "      <td>0</td>\n",
              "      <td>7441792</td>\n",
              "      <td>0</td>\n",
              "      <td>3</td>\n",
              "      <td>0</td>\n",
              "      <td>6</td>\n",
              "      <td>404786</td>\n",
              "      <td>0</td>\n",
              "      <td>0</td>\n",
              "      <td>0</td>\n",
              "      <td>01</td>\n",
              "    </tr>\n",
              "  </tbody>\n",
              "</table>\n",
              "</div>"
            ],
            "text/plain": [
              "            date    device  failure  ...  attribute8  attribute9  month\n",
              "1     2015-01-01  S1F0166B        0  ...           0           0     01\n",
              "1164  2015-01-02  S1F0166B        0  ...           0           0     01\n",
              "2327  2015-01-03  S1F0166B        0  ...           0           0     01\n",
              "3490  2015-01-04  S1F0166B        0  ...           0           0     01\n",
              "4652  2015-01-05  S1F0166B        0  ...           0           0     01\n",
              "5813  2015-01-06  S1F0166B        0  ...           0           0     01\n",
              "\n",
              "[6 rows x 13 columns]"
            ]
          },
          "metadata": {
            "tags": []
          },
          "execution_count": 11
        }
      ]
    },
    {
      "cell_type": "code",
      "metadata": {
        "colab": {
          "base_uri": "https://localhost:8080/",
          "height": 297
        },
        "id": "U537uZOPNFwR",
        "outputId": "3e0cdc14-8134-4792-841c-382b7fa994cf"
      },
      "source": [
        "df2.groupby('month')['failure'].mean().plot()"
      ],
      "execution_count": 12,
      "outputs": [
        {
          "output_type": "execute_result",
          "data": {
            "text/plain": [
              "<matplotlib.axes._subplots.AxesSubplot at 0x7fc738157650>"
            ]
          },
          "metadata": {
            "tags": []
          },
          "execution_count": 12
        },
        {
          "output_type": "display_data",
          "data": {
            "image/png": "[encoded data removed]",
            "text/plain": [
              "<Figure size 432x288 with 1 Axes>"
            ]
          },
          "metadata": {
            "tags": [],
            "needs_background": "light"
          }
        }
      ]
    },
    {
      "cell_type": "code",
      "metadata": {
        "id": "iKg0LCxcNFzU"
      },
      "source": [
        "defaultid = df2[df2.failure == 1].device.unique()"
      ],
      "execution_count": 13,
      "outputs": []
    },
    {
      "cell_type": "code",
      "metadata": {
        "id": "2K7jg3BuNF2U"
      },
      "source": [
        "defaults=df2[df2.device.isin(defaultid)]"
      ],
      "execution_count": 14,
      "outputs": []
    },
    {
      "cell_type": "code",
      "metadata": {
        "id": "rWzvE_7UNF5P"
      },
      "source": [
        "df1['date'] = pd.to_datetime(df1['date'])"
      ],
      "execution_count": 15,
      "outputs": []
    },
    {
      "cell_type": "code",
      "metadata": {
        "id": "Fe6809ftNF8E"
      },
      "source": [
        "df1['work_days']=df1.groupby('device')['date'].rank(method='dense')# bir takvimdeki çalışılan yılları tesbit ediyoruz."
      ],
      "execution_count": 16,
      "outputs": []
    },
    {
      "cell_type": "code",
      "metadata": {
        "colab": {
          "base_uri": "https://localhost:8080/",
          "height": 337
        },
        "id": "G9vSkHdzNF_N",
        "outputId": "75aab8ee-cc99-4e29-8725-c577ad111f80"
      },
      "source": [
        "df1[(df1['device']=='S1F01085') & (df1['failure']==0)]"
      ],
      "execution_count": 17,
      "outputs": [
        {
          "output_type": "execute_result",
          "data": {
            "text/html": [
              "<div>\n",
              "<style scoped>\n",
              "    .dataframe tbody tr th:only-of-type {\n",
              "        vertical-align: middle;\n",
              "    }\n",
              "\n",
              "    .dataframe tbody tr th {\n",
              "        vertical-align: top;\n",
              "    }\n",
              "\n",
              "    .dataframe thead th {\n",
              "        text-align: right;\n",
              "    }\n",
              "</style>\n",
              "<table border=\"1\" class=\"dataframe\">\n",
              "  <thead>\n",
              "    <tr style=\"text-align: right;\">\n",
              "      <th></th>\n",
              "      <th>date</th>\n",
              "      <th>device</th>\n",
              "      <th>failure</th>\n",
              "      <th>attribute1</th>\n",
              "      <th>attribute2</th>\n",
              "      <th>attribute3</th>\n",
              "      <th>attribute4</th>\n",
              "      <th>attribute5</th>\n",
              "      <th>attribute6</th>\n",
              "      <th>attribute7</th>\n",
              "      <th>attribute8</th>\n",
              "      <th>attribute9</th>\n",
              "      <th>work_days</th>\n",
              "    </tr>\n",
              "  </thead>\n",
              "  <tbody>\n",
              "    <tr>\n",
              "      <th>0</th>\n",
              "      <td>2015-01-01</td>\n",
              "      <td>S1F01085</td>\n",
              "      <td>0</td>\n",
              "      <td>215630672</td>\n",
              "      <td>56</td>\n",
              "      <td>0</td>\n",
              "      <td>52</td>\n",
              "      <td>6</td>\n",
              "      <td>407438</td>\n",
              "      <td>0</td>\n",
              "      <td>0</td>\n",
              "      <td>7</td>\n",
              "      <td>1.0</td>\n",
              "    </tr>\n",
              "    <tr>\n",
              "      <th>1163</th>\n",
              "      <td>2015-01-02</td>\n",
              "      <td>S1F01085</td>\n",
              "      <td>0</td>\n",
              "      <td>1650864</td>\n",
              "      <td>56</td>\n",
              "      <td>0</td>\n",
              "      <td>52</td>\n",
              "      <td>6</td>\n",
              "      <td>407438</td>\n",
              "      <td>0</td>\n",
              "      <td>0</td>\n",
              "      <td>7</td>\n",
              "      <td>2.0</td>\n",
              "    </tr>\n",
              "    <tr>\n",
              "      <th>2326</th>\n",
              "      <td>2015-01-03</td>\n",
              "      <td>S1F01085</td>\n",
              "      <td>0</td>\n",
              "      <td>124017368</td>\n",
              "      <td>56</td>\n",
              "      <td>0</td>\n",
              "      <td>52</td>\n",
              "      <td>6</td>\n",
              "      <td>407438</td>\n",
              "      <td>0</td>\n",
              "      <td>0</td>\n",
              "      <td>7</td>\n",
              "      <td>3.0</td>\n",
              "    </tr>\n",
              "    <tr>\n",
              "      <th>3489</th>\n",
              "      <td>2015-01-04</td>\n",
              "      <td>S1F01085</td>\n",
              "      <td>0</td>\n",
              "      <td>128073224</td>\n",
              "      <td>56</td>\n",
              "      <td>0</td>\n",
              "      <td>52</td>\n",
              "      <td>6</td>\n",
              "      <td>407439</td>\n",
              "      <td>0</td>\n",
              "      <td>0</td>\n",
              "      <td>7</td>\n",
              "      <td>4.0</td>\n",
              "    </tr>\n",
              "    <tr>\n",
              "      <th>4651</th>\n",
              "      <td>2015-01-05</td>\n",
              "      <td>S1F01085</td>\n",
              "      <td>0</td>\n",
              "      <td>97393448</td>\n",
              "      <td>56</td>\n",
              "      <td>0</td>\n",
              "      <td>52</td>\n",
              "      <td>6</td>\n",
              "      <td>408114</td>\n",
              "      <td>0</td>\n",
              "      <td>0</td>\n",
              "      <td>7</td>\n",
              "      <td>5.0</td>\n",
              "    </tr>\n",
              "    <tr>\n",
              "      <th>5812</th>\n",
              "      <td>2015-01-06</td>\n",
              "      <td>S1F01085</td>\n",
              "      <td>0</td>\n",
              "      <td>128832128</td>\n",
              "      <td>56</td>\n",
              "      <td>0</td>\n",
              "      <td>52</td>\n",
              "      <td>6</td>\n",
              "      <td>409404</td>\n",
              "      <td>0</td>\n",
              "      <td>0</td>\n",
              "      <td>7</td>\n",
              "      <td>6.0</td>\n",
              "    </tr>\n",
              "  </tbody>\n",
              "</table>\n",
              "</div>"
            ],
            "text/plain": [
              "           date    device  failure  ...  attribute8  attribute9  work_days\n",
              "0    2015-01-01  S1F01085        0  ...           0           7        1.0\n",
              "1163 2015-01-02  S1F01085        0  ...           0           7        2.0\n",
              "2326 2015-01-03  S1F01085        0  ...           0           7        3.0\n",
              "3489 2015-01-04  S1F01085        0  ...           0           7        4.0\n",
              "4651 2015-01-05  S1F01085        0  ...           0           7        5.0\n",
              "5812 2015-01-06  S1F01085        0  ...           0           7        6.0\n",
              "\n",
              "[6 rows x 13 columns]"
            ]
          },
          "metadata": {
            "tags": []
          },
          "execution_count": 17
        }
      ]
    },
    {
      "cell_type": "code",
      "metadata": {
        "id": "o30wuDKyNGB5"
      },
      "source": [
        "df1['device_type']=df1['device'].apply(lambda x: str(x)[0:3])"
      ],
      "execution_count": 18,
      "outputs": []
    },
    {
      "cell_type": "code",
      "metadata": {
        "id": "hrEYFJAfNGE4"
      },
      "source": [
        "df1['att2']=df1['attribute2'].apply(lambda x: x/8)"
      ],
      "execution_count": 19,
      "outputs": []
    },
    {
      "cell_type": "code",
      "metadata": {
        "id": "Q0A05zMCNlJK"
      },
      "source": [
        "df1['att1']=df1['attribute1'].apply(lambda x: x/8)"
      ],
      "execution_count": 20,
      "outputs": []
    },
    {
      "cell_type": "code",
      "metadata": {
        "id": "Mv-VVrBONlQS"
      },
      "source": [
        "df1['att39']=df1['attribute3']+df1['attribute9']"
      ],
      "execution_count": 21,
      "outputs": []
    },
    {
      "cell_type": "code",
      "metadata": {
        "id": "cw-iHBFwNlTD"
      },
      "source": [
        "df1['attribute7']=df1['attribute7'].apply(lambda x:x/2)"
      ],
      "execution_count": 22,
      "outputs": []
    },
    {
      "cell_type": "code",
      "metadata": {
        "id": "ujdLOzAiNlWE"
      },
      "source": [
        "df1['att78']=df1['attribute7'].apply(lambda x:x**2)"
      ],
      "execution_count": 23,
      "outputs": []
    },
    {
      "cell_type": "code",
      "metadata": {
        "id": "LNoLgWVXNlYa"
      },
      "source": [
        "df1['month']=df1['date'].apply(lambda x: x.strftime('%m'))"
      ],
      "execution_count": 25,
      "outputs": []
    },
    {
      "cell_type": "code",
      "metadata": {
        "id": "3oWMK5SRNlbZ"
      },
      "source": [
        "df1['work_days']=df1['work_days'].astype('int')"
      ],
      "execution_count": 26,
      "outputs": []
    },
    {
      "cell_type": "code",
      "metadata": {
        "id": "Q8fA9rstNld3"
      },
      "source": [
        "df1['att2']=df1['att2'].astype('int')"
      ],
      "execution_count": 27,
      "outputs": []
    },
    {
      "cell_type": "code",
      "metadata": {
        "id": "Zt-ypd-HNlgr"
      },
      "source": [
        "df1['att1']=df1['att1'].astype('int')"
      ],
      "execution_count": 28,
      "outputs": []
    },
    {
      "cell_type": "code",
      "metadata": {
        "id": "mfLF35yENlji"
      },
      "source": [
        "df1['att78']=df1['att78'].astype('int')"
      ],
      "execution_count": 29,
      "outputs": []
    },
    {
      "cell_type": "code",
      "metadata": {
        "id": "42_sO3yFNlla"
      },
      "source": [
        "df1['month']=df1['month'].astype('int')"
      ],
      "execution_count": 30,
      "outputs": []
    },
    {
      "cell_type": "code",
      "metadata": {
        "id": "_8y63tJBOGvJ"
      },
      "source": [
        "prep1=df1.groupby(['device']).max()"
      ],
      "execution_count": 31,
      "outputs": []
    },
    {
      "cell_type": "code",
      "metadata": {
        "id": "LyJQunwrOG3o"
      },
      "source": [
        "prep1=prep1.reset_index(0)"
      ],
      "execution_count": 32,
      "outputs": []
    },
    {
      "cell_type": "code",
      "metadata": {
        "id": "PmIPxCUIOG-C"
      },
      "source": [
        "prep2=df1.groupby(['device']).min()"
      ],
      "execution_count": 33,
      "outputs": []
    },
    {
      "cell_type": "code",
      "metadata": {
        "id": "ka_W0pC4OHEW"
      },
      "source": [
        "prep2=prep2.reset_index(0)"
      ],
      "execution_count": 34,
      "outputs": []
    },
    {
      "cell_type": "code",
      "metadata": {
        "id": "I3LBh7gcOHKK"
      },
      "source": [
        "prep1['att6']=prep2['attribute6']"
      ],
      "execution_count": 35,
      "outputs": []
    },
    {
      "cell_type": "code",
      "metadata": {
        "id": "GGQ1vsnNOHRe"
      },
      "source": [
        "prep1['total_mile']=prep1['attribute6']-prep1['att6']"
      ],
      "execution_count": 36,
      "outputs": []
    },
    {
      "cell_type": "code",
      "metadata": {
        "id": "Rfp1MFUrOHXQ"
      },
      "source": [
        "prep=prep1.copy()"
      ],
      "execution_count": 37,
      "outputs": []
    },
    {
      "cell_type": "code",
      "metadata": {
        "id": "KVJq9vWsOHdb"
      },
      "source": [
        "prep=prep.drop(['attribute1','attribute2','attribute3','attribute6','attribute7','attribute8','attribute9','att6'],axis=1)"
      ],
      "execution_count": 38,
      "outputs": []
    },
    {
      "cell_type": "code",
      "metadata": {
        "id": "R45F_g2mOHjQ"
      },
      "source": [
        "c={'S1F':0,'W1F':1, 'Z1F':2}\n",
        "prep['device_type']=prep['device_type'].map(c)"
      ],
      "execution_count": 39,
      "outputs": []
    },
    {
      "cell_type": "code",
      "metadata": {
        "colab": {
          "base_uri": "https://localhost:8080/",
          "height": 499
        },
        "id": "Ya4eWInsOHmf",
        "outputId": "dba75c52-b098-458c-a42a-9eb157fd1fff"
      },
      "source": [
        "fig, ax = plt.subplots(figsize=(10, 7))\n",
        "Corr = prep[prep.columns].corr()\n",
        "sns.heatmap(Corr,annot=True,linewidths=0.5)"
      ],
      "execution_count": 40,
      "outputs": [
        {
          "output_type": "execute_result",
          "data": {
            "text/plain": [
              "<matplotlib.axes._subplots.AxesSubplot at 0x7fc737333a50>"
            ]
          },
          "metadata": {
            "tags": []
          },
          "execution_count": 40
        },
        {
          "output_type": "display_data",
          "data": {
            "image/png": "[encoded data removed]",
            "text/plain": [
              "<Figure size 720x504 with 2 Axes>"
            ]
          },
          "metadata": {
            "tags": [],
            "needs_background": "light"
          }
        }
      ]
    },
    {
      "cell_type": "code",
      "metadata": {
        "colab": {
          "base_uri": "https://localhost:8080/"
        },
        "id": "QB0FaEF5OHpf",
        "outputId": "7f06ca30-2f02-48e4-b738-ef729996129a"
      },
      "source": [
        "prep.info()"
      ],
      "execution_count": 41,
      "outputs": [
        {
          "output_type": "stream",
          "text": [
            "<class 'pandas.core.frame.DataFrame'>\n",
            "RangeIndex: 1168 entries, 0 to 1167\n",
            "Data columns (total 13 columns):\n",
            " #   Column       Non-Null Count  Dtype         \n",
            "---  ------       --------------  -----         \n",
            " 0   device       1168 non-null   object        \n",
            " 1   date         1168 non-null   datetime64[ns]\n",
            " 2   failure      1168 non-null   int64         \n",
            " 3   attribute4   1168 non-null   int64         \n",
            " 4   attribute5   1168 non-null   int64         \n",
            " 5   work_days    1168 non-null   int64         \n",
            " 6   device_type  1168 non-null   int64         \n",
            " 7   att2         1168 non-null   int64         \n",
            " 8   att1         1168 non-null   int64         \n",
            " 9   att39        1168 non-null   int64         \n",
            " 10  att78        1168 non-null   int64         \n",
            " 11  month        1168 non-null   int64         \n",
            " 12  total_mile   1168 non-null   int64         \n",
            "dtypes: datetime64[ns](1), int64(11), object(1)\n",
            "memory usage: 118.8+ KB\n"
          ],
          "name": "stdout"
        }
      ]
    },
    {
      "cell_type": "code",
      "metadata": {
        "id": "EZm7vBtfOHsk"
      },
      "source": [
        "prep['attribute4']=prep['attribute4'].astype('category')\n",
        "prep['attribute5']=prep['attribute5'].astype('category')\n",
        "prep['device_type']=prep['device_type'].astype('category')\n",
        "prep['att39']=prep['att39'].astype('category')\n",
        "prep['att78']=prep['att78'].astype('category')\n",
        "prep['att2']=prep['att2'].astype('category')\n",
        "prep['month']=prep['month'].astype('category')"
      ],
      "execution_count": 42,
      "outputs": []
    },
    {
      "cell_type": "code",
      "metadata": {
        "id": "F4VOEWClOHv3"
      },
      "source": [
        "prep['work_days']=prep['work_days'].astype('category')\n",
        "\n",
        "prep['total_mile']=prep['total_mile'].astype('category')"
      ],
      "execution_count": 43,
      "outputs": []
    },
    {
      "cell_type": "code",
      "metadata": {
        "id": "ZaTrKTrhOHyk"
      },
      "source": [
        "prep['att1']=prep['att1'].astype('category')"
      ],
      "execution_count": 44,
      "outputs": []
    },
    {
      "cell_type": "code",
      "metadata": {
        "id": "N-Y3VkEqOwrr"
      },
      "source": [
        "prep=prep.drop(['device','date'],axis=1)"
      ],
      "execution_count": 45,
      "outputs": []
    },
    {
      "cell_type": "code",
      "metadata": {
        "id": "6DHjAIjQOwuw"
      },
      "source": [
        "prep.to_csv('dataprep.csv', sep=',')"
      ],
      "execution_count": 46,
      "outputs": []
    },
    {
      "cell_type": "code",
      "metadata": {
        "colab": {
          "base_uri": "https://localhost:8080/"
        },
        "id": "fTX_Yi2ZOwxS",
        "outputId": "812397c9-e6e3-4371-dd2e-922c6d1bb066"
      },
      "source": [
        "prep.info()# 124 bin civarındaki satır sayısını 1168 e indirdim."
      ],
      "execution_count": 47,
      "outputs": [
        {
          "output_type": "stream",
          "text": [
            "<class 'pandas.core.frame.DataFrame'>\n",
            "RangeIndex: 1168 entries, 0 to 1167\n",
            "Data columns (total 11 columns):\n",
            " #   Column       Non-Null Count  Dtype   \n",
            "---  ------       --------------  -----   \n",
            " 0   failure      1168 non-null   int64   \n",
            " 1   attribute4   1168 non-null   category\n",
            " 2   attribute5   1168 non-null   category\n",
            " 3   work_days    1168 non-null   category\n",
            " 4   device_type  1168 non-null   category\n",
            " 5   att2         1168 non-null   category\n",
            " 6   att1         1168 non-null   category\n",
            " 7   att39        1168 non-null   category\n",
            " 8   att78        1168 non-null   category\n",
            " 9   month        1168 non-null   category\n",
            " 10  total_mile   1168 non-null   category\n",
            "dtypes: category(10), int64(1)\n",
            "memory usage: 143.7 KB\n"
          ],
          "name": "stdout"
        }
      ]
    },
    {
      "cell_type": "code",
      "metadata": {
        "id": "AU8sWYIjOw0K"
      },
      "source": [
        "x=prep.drop('failure',axis=1)\n",
        "y=prep['failure']"
      ],
      "execution_count": 48,
      "outputs": []
    },
    {
      "cell_type": "code",
      "metadata": {
        "id": "xgRSS4aDOw3V"
      },
      "source": [
        "x=pd.get_dummies(x,drop_first=True)"
      ],
      "execution_count": 49,
      "outputs": []
    },
    {
      "cell_type": "code",
      "metadata": {
        "id": "18DIMksJOw55"
      },
      "source": [
        "from imblearn.under_sampling import RandomUnderSampler\n",
        "from imblearn.metrics import geometric_mean_score, make_index_balanced_accuracy, classification_report_imbalanced\n",
        "from sklearn.metrics import confusion_matrix\n",
        "# dengesiz veri seti olmasından dolayı undersampling uyguladım"
      ],
      "execution_count": 50,
      "outputs": []
    },
    {
      "cell_type": "code",
      "metadata": {
        "id": "b4PM-JYsOxB7"
      },
      "source": [
        "def classification_(x,y):\n",
        "    \n",
        "    \n",
        "    g=GaussianNB()\n",
        "    b=BernoulliNB()\n",
        "    k=KNeighborsClassifier()\n",
        "    svc=SVC()\n",
        "    d=DecisionTreeClassifier()\n",
        "    log=LogisticRegression()\n",
        "    gbc=GradientBoostingClassifier()\n",
        "    mn=MultinomialNB()\n",
        "    rf=RandomForestClassifier()\n",
        "    ab=AdaBoostClassifier()\n",
        "\n",
        "    x_train,x_test,y_train,y_test=train_test_split(x,y,test_size=.2,random_state=42)\n",
        "    \n",
        "    algos=[g,b,k,svc,d,log,gbc,mn,rf,ab]\n",
        "    algos_name=['Gaussian','Bernoulli','KNeigbors','SVC','DecisionTree','LogisticRegr','GradientBoosting','Multinominal','RandomForest','AdaBoost']\n",
        "    \n",
        "    accuracy = []\n",
        "    precision = []\n",
        "    recall = []\n",
        "    f1 = []\n",
        "   \n",
        "    result=pd.DataFrame(columns=['AccuracyScore','PrecisionScore','RecallScore','f1_Score'],index=algos_name)\n",
        "    \n",
        "    for i in algos:\n",
        "        \n",
        "        rus=RandomUnderSampler(random_state=42)\n",
        "        \n",
        "        x_rus,y_rus=rus.fit_resample(x_train,y_train)\n",
        "        \n",
        "        predict=i.fit(x_rus,y_rus).predict(x_test)\n",
        "        \n",
        "        accuracy.append(accuracy_score(y_test,predict))\n",
        "        precision.append(precision_score(y_test,predict))\n",
        "        recall.append(recall_score(y_test,predict))\n",
        "        f1.append(f1_score(y_test,predict))\n",
        "        \n",
        "\n",
        "    \n",
        "    \n",
        "    result.AccuracyScore=accuracy\n",
        "    result.PrecisionScore=precision\n",
        "    result.RecallScore=recall\n",
        "    result.f1_Score=f1\n",
        "    \n",
        "    \n",
        "    return result.sort_values('AccuracyScore',ascending=False)"
      ],
      "execution_count": 52,
      "outputs": []
    },
    {
      "cell_type": "code",
      "metadata": {
        "id": "0J7xKXfzOxFV"
      },
      "source": [
        "x_train,x_test,y_train,y_test=train_test_split(x,y,random_state=42)"
      ],
      "execution_count": 53,
      "outputs": []
    },
    {
      "cell_type": "code",
      "metadata": {
        "id": "DNK_3v08OxIW"
      },
      "source": [
        "gbc=GradientBoostingClassifier()"
      ],
      "execution_count": 54,
      "outputs": []
    },
    {
      "cell_type": "code",
      "metadata": {
        "id": "fTwXy2CCOH1J"
      },
      "source": [
        "rus=RandomUnderSampler(random_state=42)"
      ],
      "execution_count": 55,
      "outputs": []
    },
    {
      "cell_type": "code",
      "metadata": {
        "id": "qwXHtPUoOH4c"
      },
      "source": [
        "x_rus,y_rus=rus.fit_resample(x_train,y_train)"
      ],
      "execution_count": 56,
      "outputs": []
    },
    {
      "cell_type": "code",
      "metadata": {
        "id": "TlEu9DjUOH60"
      },
      "source": [
        "pred=gbc.fit(x_rus,y_rus).predict(x_test)"
      ],
      "execution_count": 57,
      "outputs": []
    },
    {
      "cell_type": "code",
      "metadata": {
        "colab": {
          "base_uri": "https://localhost:8080/"
        },
        "id": "-MQneCDJOIAL",
        "outputId": "34f91979-02a1-4669-c94f-0c3e99986765"
      },
      "source": [
        "confusion_matrix(y_test,pred)#211 FP"
      ],
      "execution_count": 58,
      "outputs": [
        {
          "output_type": "execute_result",
          "data": {
            "text/plain": [
              "array([[211,  55],\n",
              "       [  1,  25]])"
            ]
          },
          "metadata": {
            "tags": []
          },
          "execution_count": 58
        }
      ]
    },
    {
      "cell_type": "code",
      "metadata": {
        "colab": {
          "base_uri": "https://localhost:8080/",
          "height": 355
        },
        "id": "lagFpvkvQnu_",
        "outputId": "6431f820-f662-4cbc-9fa6-6e0ddb39c5c5"
      },
      "source": [
        "classification_(x,y)"
      ],
      "execution_count": 59,
      "outputs": [
        {
          "output_type": "execute_result",
          "data": {
            "text/html": [
              "<div>\n",
              "<style scoped>\n",
              "    .dataframe tbody tr th:only-of-type {\n",
              "        vertical-align: middle;\n",
              "    }\n",
              "\n",
              "    .dataframe tbody tr th {\n",
              "        vertical-align: top;\n",
              "    }\n",
              "\n",
              "    .dataframe thead th {\n",
              "        text-align: right;\n",
              "    }\n",
              "</style>\n",
              "<table border=\"1\" class=\"dataframe\">\n",
              "  <thead>\n",
              "    <tr style=\"text-align: right;\">\n",
              "      <th></th>\n",
              "      <th>AccuracyScore</th>\n",
              "      <th>PrecisionScore</th>\n",
              "      <th>RecallScore</th>\n",
              "      <th>f1_Score</th>\n",
              "    </tr>\n",
              "  </thead>\n",
              "  <tbody>\n",
              "    <tr>\n",
              "      <th>Bernoulli</th>\n",
              "      <td>0.935897</td>\n",
              "      <td>0.588235</td>\n",
              "      <td>0.555556</td>\n",
              "      <td>0.571429</td>\n",
              "    </tr>\n",
              "    <tr>\n",
              "      <th>KNeigbors</th>\n",
              "      <td>0.931624</td>\n",
              "      <td>0.666667</td>\n",
              "      <td>0.222222</td>\n",
              "      <td>0.333333</td>\n",
              "    </tr>\n",
              "    <tr>\n",
              "      <th>Gaussian</th>\n",
              "      <td>0.927350</td>\n",
              "      <td>0.520000</td>\n",
              "      <td>0.722222</td>\n",
              "      <td>0.604651</td>\n",
              "    </tr>\n",
              "    <tr>\n",
              "      <th>RandomForest</th>\n",
              "      <td>0.910256</td>\n",
              "      <td>0.434783</td>\n",
              "      <td>0.555556</td>\n",
              "      <td>0.487805</td>\n",
              "    </tr>\n",
              "    <tr>\n",
              "      <th>Multinominal</th>\n",
              "      <td>0.893162</td>\n",
              "      <td>0.410256</td>\n",
              "      <td>0.888889</td>\n",
              "      <td>0.561404</td>\n",
              "    </tr>\n",
              "    <tr>\n",
              "      <th>SVC</th>\n",
              "      <td>0.820513</td>\n",
              "      <td>0.277778</td>\n",
              "      <td>0.833333</td>\n",
              "      <td>0.416667</td>\n",
              "    </tr>\n",
              "    <tr>\n",
              "      <th>LogisticRegr</th>\n",
              "      <td>0.807692</td>\n",
              "      <td>0.254545</td>\n",
              "      <td>0.777778</td>\n",
              "      <td>0.383562</td>\n",
              "    </tr>\n",
              "    <tr>\n",
              "      <th>DecisionTree</th>\n",
              "      <td>0.794872</td>\n",
              "      <td>0.241379</td>\n",
              "      <td>0.777778</td>\n",
              "      <td>0.368421</td>\n",
              "    </tr>\n",
              "    <tr>\n",
              "      <th>AdaBoost</th>\n",
              "      <td>0.786325</td>\n",
              "      <td>0.241935</td>\n",
              "      <td>0.833333</td>\n",
              "      <td>0.375000</td>\n",
              "    </tr>\n",
              "    <tr>\n",
              "      <th>GradientBoosting</th>\n",
              "      <td>0.653846</td>\n",
              "      <td>0.175258</td>\n",
              "      <td>0.944444</td>\n",
              "      <td>0.295652</td>\n",
              "    </tr>\n",
              "  </tbody>\n",
              "</table>\n",
              "</div>"
            ],
            "text/plain": [
              "                  AccuracyScore  PrecisionScore  RecallScore  f1_Score\n",
              "Bernoulli              0.935897        0.588235     0.555556  0.571429\n",
              "KNeigbors              0.931624        0.666667     0.222222  0.333333\n",
              "Gaussian               0.927350        0.520000     0.722222  0.604651\n",
              "RandomForest           0.910256        0.434783     0.555556  0.487805\n",
              "Multinominal           0.893162        0.410256     0.888889  0.561404\n",
              "SVC                    0.820513        0.277778     0.833333  0.416667\n",
              "LogisticRegr           0.807692        0.254545     0.777778  0.383562\n",
              "DecisionTree           0.794872        0.241379     0.777778  0.368421\n",
              "AdaBoost               0.786325        0.241935     0.833333  0.375000\n",
              "GradientBoosting       0.653846        0.175258     0.944444  0.295652"
            ]
          },
          "metadata": {
            "tags": []
          },
          "execution_count": 59
        }
      ]
    },
    {
      "cell_type": "code",
      "metadata": {
        "id": "o22heGYGQn0H"
      },
      "source": [
        "from tensorflow.keras.models import Sequential\n",
        "from tensorflow.keras.layers import Dense\n",
        "\n",
        "import imblearn\n",
        "from imblearn.under_sampling import RandomUnderSampler\n",
        "from imblearn.metrics import geometric_mean_score, make_index_balanced_accuracy, classification_report_imbalanced"
      ],
      "execution_count": 68,
      "outputs": []
    },
    {
      "cell_type": "code",
      "metadata": {
        "id": "6BnQw4lES4Q7"
      },
      "source": [
        "x_train,x_test,y_train,y_test=train_test_split(x,y,random_state=13)\n",
        "\n",
        "RUS=RandomUnderSampler(random_state=42)\n",
        "x_RUS,y_RUS=RUS.fit_resample(x_train,y_train)"
      ],
      "execution_count": 77,
      "outputs": []
    },
    {
      "cell_type": "code",
      "metadata": {
        "id": "6Wq6A_gcQn4S"
      },
      "source": [
        "model=Sequential()\n",
        "model.add(Dense(600,activation='relu'))\n",
        "model.add(Dense(600,activation='relu'))\n",
        "model.add(Dense(600,activation='relu'))\n",
        "model.add(Dense(600,activation='relu'))\n",
        "model.add(Dense(600,activation='relu'))\n",
        "model.add(Dense(600,activation='relu'))\n",
        "model.add(Dense(600,activation='relu'))\n",
        "model.add(Dense(600,activation='relu'))\n",
        "model.add(Dense(1,activation='sigmoid'))"
      ],
      "execution_count": 78,
      "outputs": []
    },
    {
      "cell_type": "code",
      "metadata": {
        "colab": {
          "base_uri": "https://localhost:8080/"
        },
        "id": "ZSzkl5WoTF7O",
        "outputId": "b88a4166-7834-4e02-c325-bc6beacf8b49"
      },
      "source": [
        "model.compile(loss='binary_crossentropy',optimizer=\"adam\",metrics=[\"accuracy\"])\n",
        "history = model.fit(x_RUS,y_RUS, batch_size=128, epochs=100, verbose=1, validation_data=(x_test,y_test))"
      ],
      "execution_count": 79,
      "outputs": [
        {
          "output_type": "stream",
          "text": [
            "Epoch 1/100\n",
            "2/2 [==============================] - 1s 430ms/step - loss: 0.6937 - accuracy: 0.5052 - val_loss: 0.6970 - val_accuracy: 0.1130\n",
            "Epoch 2/100\n",
            "2/2 [==============================] - 0s 126ms/step - loss: 0.6886 - accuracy: 0.5824 - val_loss: 0.6777 - val_accuracy: 0.9007\n",
            "Epoch 3/100\n",
            "2/2 [==============================] - 0s 132ms/step - loss: 0.6661 - accuracy: 0.9376 - val_loss: 0.7587 - val_accuracy: 0.2055\n",
            "Epoch 4/100\n",
            "2/2 [==============================] - 0s 127ms/step - loss: 0.5294 - accuracy: 0.8778 - val_loss: 0.4148 - val_accuracy: 0.9041\n",
            "Epoch 5/100\n",
            "2/2 [==============================] - 0s 139ms/step - loss: 0.2415 - accuracy: 0.9723 - val_loss: 0.6970 - val_accuracy: 0.7774\n",
            "Epoch 6/100\n",
            "2/2 [==============================] - 0s 131ms/step - loss: 0.0143 - accuracy: 1.0000 - val_loss: 0.7292 - val_accuracy: 0.8938\n",
            "Epoch 7/100\n",
            "2/2 [==============================] - 0s 134ms/step - loss: 1.8666e-05 - accuracy: 1.0000 - val_loss: 1.2192 - val_accuracy: 0.9110\n",
            "Epoch 8/100\n",
            "2/2 [==============================] - 0s 138ms/step - loss: 8.7609e-07 - accuracy: 1.0000 - val_loss: 2.2820 - val_accuracy: 0.9110\n",
            "Epoch 9/100\n",
            "2/2 [==============================] - 0s 139ms/step - loss: 5.3034e-07 - accuracy: 1.0000 - val_loss: 4.0914 - val_accuracy: 0.9178\n",
            "Epoch 10/100\n",
            "2/2 [==============================] - 0s 146ms/step - loss: 2.8330e-06 - accuracy: 1.0000 - val_loss: 6.2781 - val_accuracy: 0.9212\n",
            "Epoch 11/100\n",
            "2/2 [==============================] - 0s 150ms/step - loss: 3.1509e-06 - accuracy: 1.0000 - val_loss: 8.5314 - val_accuracy: 0.9178\n",
            "Epoch 12/100\n",
            "2/2 [==============================] - 0s 175ms/step - loss: 2.7563e-07 - accuracy: 1.0000 - val_loss: 10.8599 - val_accuracy: 0.9178\n",
            "Epoch 13/100\n",
            "2/2 [==============================] - 0s 161ms/step - loss: 2.2135e-05 - accuracy: 1.0000 - val_loss: 10.9091 - val_accuracy: 0.9178\n",
            "Epoch 14/100\n",
            "2/2 [==============================] - 0s 132ms/step - loss: 6.8331e-27 - accuracy: 1.0000 - val_loss: 10.8597 - val_accuracy: 0.9212\n",
            "Epoch 15/100\n",
            "2/2 [==============================] - 0s 127ms/step - loss: 0.0000e+00 - accuracy: 1.0000 - val_loss: 11.1702 - val_accuracy: 0.9212\n",
            "Epoch 16/100\n",
            "2/2 [==============================] - 0s 142ms/step - loss: 0.0000e+00 - accuracy: 1.0000 - val_loss: 11.5240 - val_accuracy: 0.9281\n",
            "Epoch 17/100\n",
            "2/2 [==============================] - 0s 132ms/step - loss: 0.0000e+00 - accuracy: 1.0000 - val_loss: 11.9516 - val_accuracy: 0.9281\n",
            "Epoch 18/100\n",
            "2/2 [==============================] - 0s 139ms/step - loss: 0.0000e+00 - accuracy: 1.0000 - val_loss: 12.5398 - val_accuracy: 0.9315\n",
            "Epoch 19/100\n",
            "2/2 [==============================] - 0s 152ms/step - loss: 0.0000e+00 - accuracy: 1.0000 - val_loss: 13.1919 - val_accuracy: 0.9281\n",
            "Epoch 20/100\n",
            "2/2 [==============================] - 0s 154ms/step - loss: 0.0000e+00 - accuracy: 1.0000 - val_loss: 13.8848 - val_accuracy: 0.9247\n",
            "Epoch 21/100\n",
            "2/2 [==============================] - 0s 168ms/step - loss: 0.0000e+00 - accuracy: 1.0000 - val_loss: 14.5571 - val_accuracy: 0.9281\n",
            "Epoch 22/100\n",
            "2/2 [==============================] - 0s 160ms/step - loss: 0.0000e+00 - accuracy: 1.0000 - val_loss: 15.1552 - val_accuracy: 0.9281\n",
            "Epoch 23/100\n",
            "2/2 [==============================] - 0s 155ms/step - loss: 0.0000e+00 - accuracy: 1.0000 - val_loss: 15.7374 - val_accuracy: 0.9212\n",
            "Epoch 24/100\n",
            "2/2 [==============================] - 0s 157ms/step - loss: 0.0000e+00 - accuracy: 1.0000 - val_loss: 16.2594 - val_accuracy: 0.9178\n",
            "Epoch 25/100\n",
            "2/2 [==============================] - 0s 212ms/step - loss: 0.0000e+00 - accuracy: 1.0000 - val_loss: 16.7423 - val_accuracy: 0.9212\n",
            "Epoch 26/100\n",
            "2/2 [==============================] - 0s 164ms/step - loss: 0.0000e+00 - accuracy: 1.0000 - val_loss: 17.1672 - val_accuracy: 0.9178\n",
            "Epoch 27/100\n",
            "2/2 [==============================] - 0s 159ms/step - loss: 0.0000e+00 - accuracy: 1.0000 - val_loss: 17.5302 - val_accuracy: 0.9178\n",
            "Epoch 28/100\n",
            "2/2 [==============================] - 0s 159ms/step - loss: 0.0000e+00 - accuracy: 1.0000 - val_loss: 17.8350 - val_accuracy: 0.9178\n",
            "Epoch 29/100\n",
            "2/2 [==============================] - 0s 155ms/step - loss: 0.0000e+00 - accuracy: 1.0000 - val_loss: 18.0961 - val_accuracy: 0.9212\n",
            "Epoch 30/100\n",
            "2/2 [==============================] - 0s 152ms/step - loss: 0.0000e+00 - accuracy: 1.0000 - val_loss: 18.3153 - val_accuracy: 0.9212\n",
            "Epoch 31/100\n",
            "2/2 [==============================] - 0s 138ms/step - loss: 0.0000e+00 - accuracy: 1.0000 - val_loss: 18.4973 - val_accuracy: 0.9212\n",
            "Epoch 32/100\n",
            "2/2 [==============================] - 0s 128ms/step - loss: 0.0000e+00 - accuracy: 1.0000 - val_loss: 18.6486 - val_accuracy: 0.9212\n",
            "Epoch 33/100\n",
            "2/2 [==============================] - 0s 140ms/step - loss: 0.0000e+00 - accuracy: 1.0000 - val_loss: 18.7750 - val_accuracy: 0.9212\n",
            "Epoch 34/100\n",
            "2/2 [==============================] - 0s 133ms/step - loss: 0.0000e+00 - accuracy: 1.0000 - val_loss: 18.8813 - val_accuracy: 0.9178\n",
            "Epoch 35/100\n",
            "2/2 [==============================] - 0s 135ms/step - loss: 0.0000e+00 - accuracy: 1.0000 - val_loss: 18.9699 - val_accuracy: 0.9178\n",
            "Epoch 36/100\n",
            "2/2 [==============================] - 0s 150ms/step - loss: 0.0000e+00 - accuracy: 1.0000 - val_loss: 19.0434 - val_accuracy: 0.9178\n",
            "Epoch 37/100\n",
            "2/2 [==============================] - 0s 152ms/step - loss: 0.0000e+00 - accuracy: 1.0000 - val_loss: 19.1041 - val_accuracy: 0.9178\n",
            "Epoch 38/100\n",
            "2/2 [==============================] - 0s 156ms/step - loss: 0.0000e+00 - accuracy: 1.0000 - val_loss: 19.1542 - val_accuracy: 0.9178\n",
            "Epoch 39/100\n",
            "2/2 [==============================] - 0s 155ms/step - loss: 0.0000e+00 - accuracy: 1.0000 - val_loss: 19.1957 - val_accuracy: 0.9178\n",
            "Epoch 40/100\n",
            "2/2 [==============================] - 0s 155ms/step - loss: 0.0000e+00 - accuracy: 1.0000 - val_loss: 19.2300 - val_accuracy: 0.9178\n",
            "Epoch 41/100\n",
            "2/2 [==============================] - 0s 168ms/step - loss: 0.0000e+00 - accuracy: 1.0000 - val_loss: 19.2584 - val_accuracy: 0.9144\n",
            "Epoch 42/100\n",
            "2/2 [==============================] - 0s 163ms/step - loss: 0.0000e+00 - accuracy: 1.0000 - val_loss: 19.2818 - val_accuracy: 0.9144\n",
            "Epoch 43/100\n",
            "2/2 [==============================] - 0s 167ms/step - loss: 0.0000e+00 - accuracy: 1.0000 - val_loss: 19.3011 - val_accuracy: 0.9144\n",
            "Epoch 44/100\n",
            "2/2 [==============================] - 0s 169ms/step - loss: 0.0000e+00 - accuracy: 1.0000 - val_loss: 19.3170 - val_accuracy: 0.9144\n",
            "Epoch 45/100\n",
            "2/2 [==============================] - 0s 182ms/step - loss: 0.0000e+00 - accuracy: 1.0000 - val_loss: 19.3300 - val_accuracy: 0.9144\n",
            "Epoch 46/100\n",
            "2/2 [==============================] - 0s 180ms/step - loss: 0.0000e+00 - accuracy: 1.0000 - val_loss: 19.3407 - val_accuracy: 0.9144\n",
            "Epoch 47/100\n",
            "2/2 [==============================] - 0s 178ms/step - loss: 0.0000e+00 - accuracy: 1.0000 - val_loss: 19.3495 - val_accuracy: 0.9144\n",
            "Epoch 48/100\n",
            "2/2 [==============================] - 0s 175ms/step - loss: 0.0000e+00 - accuracy: 1.0000 - val_loss: 19.3567 - val_accuracy: 0.9144\n",
            "Epoch 49/100\n",
            "2/2 [==============================] - 0s 183ms/step - loss: 0.0000e+00 - accuracy: 1.0000 - val_loss: 19.3626 - val_accuracy: 0.9144\n",
            "Epoch 50/100\n",
            "2/2 [==============================] - 0s 177ms/step - loss: 0.0000e+00 - accuracy: 1.0000 - val_loss: 19.3674 - val_accuracy: 0.9144\n",
            "Epoch 51/100\n",
            "2/2 [==============================] - 0s 157ms/step - loss: 0.0000e+00 - accuracy: 1.0000 - val_loss: 19.3714 - val_accuracy: 0.9144\n",
            "Epoch 52/100\n",
            "2/2 [==============================] - 0s 162ms/step - loss: 0.0000e+00 - accuracy: 1.0000 - val_loss: 19.3747 - val_accuracy: 0.9144\n",
            "Epoch 53/100\n",
            "2/2 [==============================] - 0s 160ms/step - loss: 0.0000e+00 - accuracy: 1.0000 - val_loss: 19.3773 - val_accuracy: 0.9144\n",
            "Epoch 54/100\n",
            "2/2 [==============================] - 0s 154ms/step - loss: 0.0000e+00 - accuracy: 1.0000 - val_loss: 19.3795 - val_accuracy: 0.9144\n",
            "Epoch 55/100\n",
            "2/2 [==============================] - 0s 150ms/step - loss: 0.0000e+00 - accuracy: 1.0000 - val_loss: 19.3813 - val_accuracy: 0.9144\n",
            "Epoch 56/100\n",
            "2/2 [==============================] - 0s 131ms/step - loss: 0.0000e+00 - accuracy: 1.0000 - val_loss: 19.3827 - val_accuracy: 0.9144\n",
            "Epoch 57/100\n",
            "2/2 [==============================] - 0s 137ms/step - loss: 0.0000e+00 - accuracy: 1.0000 - val_loss: 19.3839 - val_accuracy: 0.9144\n",
            "Epoch 58/100\n",
            "2/2 [==============================] - 0s 142ms/step - loss: 0.0000e+00 - accuracy: 1.0000 - val_loss: 19.3849 - val_accuracy: 0.9144\n",
            "Epoch 59/100\n",
            "2/2 [==============================] - 0s 140ms/step - loss: 0.0000e+00 - accuracy: 1.0000 - val_loss: 19.3857 - val_accuracy: 0.9144\n",
            "Epoch 60/100\n",
            "2/2 [==============================] - 0s 152ms/step - loss: 0.0000e+00 - accuracy: 1.0000 - val_loss: 19.3863 - val_accuracy: 0.9144\n",
            "Epoch 61/100\n",
            "2/2 [==============================] - 0s 157ms/step - loss: 0.0000e+00 - accuracy: 1.0000 - val_loss: 19.3868 - val_accuracy: 0.9144\n",
            "Epoch 62/100\n",
            "2/2 [==============================] - 0s 153ms/step - loss: 0.0000e+00 - accuracy: 1.0000 - val_loss: 19.3873 - val_accuracy: 0.9144\n",
            "Epoch 63/100\n",
            "2/2 [==============================] - 0s 151ms/step - loss: 0.0000e+00 - accuracy: 1.0000 - val_loss: 19.3876 - val_accuracy: 0.9144\n",
            "Epoch 64/100\n",
            "2/2 [==============================] - 0s 131ms/step - loss: 0.0000e+00 - accuracy: 1.0000 - val_loss: 19.3879 - val_accuracy: 0.9144\n",
            "Epoch 65/100\n",
            "2/2 [==============================] - 0s 139ms/step - loss: 0.0000e+00 - accuracy: 1.0000 - val_loss: 19.3882 - val_accuracy: 0.9144\n",
            "Epoch 66/100\n",
            "2/2 [==============================] - 0s 138ms/step - loss: 0.0000e+00 - accuracy: 1.0000 - val_loss: 19.3884 - val_accuracy: 0.9144\n",
            "Epoch 67/100\n",
            "2/2 [==============================] - 0s 149ms/step - loss: 0.0000e+00 - accuracy: 1.0000 - val_loss: 19.3885 - val_accuracy: 0.9144\n",
            "Epoch 68/100\n",
            "2/2 [==============================] - 0s 136ms/step - loss: 0.0000e+00 - accuracy: 1.0000 - val_loss: 19.3886 - val_accuracy: 0.9144\n",
            "Epoch 69/100\n",
            "2/2 [==============================] - 0s 150ms/step - loss: 0.0000e+00 - accuracy: 1.0000 - val_loss: 19.3887 - val_accuracy: 0.9144\n",
            "Epoch 70/100\n",
            "2/2 [==============================] - 0s 151ms/step - loss: 0.0000e+00 - accuracy: 1.0000 - val_loss: 19.3888 - val_accuracy: 0.9144\n",
            "Epoch 71/100\n",
            "2/2 [==============================] - 0s 167ms/step - loss: 0.0000e+00 - accuracy: 1.0000 - val_loss: 19.3889 - val_accuracy: 0.9144\n",
            "Epoch 72/100\n",
            "2/2 [==============================] - 0s 147ms/step - loss: 0.0000e+00 - accuracy: 1.0000 - val_loss: 19.3889 - val_accuracy: 0.9144\n",
            "Epoch 73/100\n",
            "2/2 [==============================] - 0s 131ms/step - loss: 0.0000e+00 - accuracy: 1.0000 - val_loss: 19.3889 - val_accuracy: 0.9144\n",
            "Epoch 74/100\n",
            "2/2 [==============================] - 0s 140ms/step - loss: 0.0000e+00 - accuracy: 1.0000 - val_loss: 19.3889 - val_accuracy: 0.9144\n",
            "Epoch 75/100\n",
            "2/2 [==============================] - 0s 158ms/step - loss: 0.0000e+00 - accuracy: 1.0000 - val_loss: 19.3890 - val_accuracy: 0.9144\n",
            "Epoch 76/100\n",
            "2/2 [==============================] - 0s 131ms/step - loss: 0.0000e+00 - accuracy: 1.0000 - val_loss: 19.3890 - val_accuracy: 0.9144\n",
            "Epoch 77/100\n",
            "2/2 [==============================] - 0s 139ms/step - loss: 0.0000e+00 - accuracy: 1.0000 - val_loss: 19.3890 - val_accuracy: 0.9144\n",
            "Epoch 78/100\n",
            "2/2 [==============================] - 0s 150ms/step - loss: 0.0000e+00 - accuracy: 1.0000 - val_loss: 19.3890 - val_accuracy: 0.9144\n",
            "Epoch 79/100\n",
            "2/2 [==============================] - 0s 154ms/step - loss: 0.0000e+00 - accuracy: 1.0000 - val_loss: 19.3890 - val_accuracy: 0.9144\n",
            "Epoch 80/100\n",
            "2/2 [==============================] - 0s 151ms/step - loss: 0.0000e+00 - accuracy: 1.0000 - val_loss: 19.3890 - val_accuracy: 0.9144\n",
            "Epoch 81/100\n",
            "2/2 [==============================] - 0s 152ms/step - loss: 0.0000e+00 - accuracy: 1.0000 - val_loss: 19.3890 - val_accuracy: 0.9144\n",
            "Epoch 82/100\n",
            "2/2 [==============================] - 0s 154ms/step - loss: 0.0000e+00 - accuracy: 1.0000 - val_loss: 19.3890 - val_accuracy: 0.9144\n",
            "Epoch 83/100\n",
            "2/2 [==============================] - 0s 146ms/step - loss: 0.0000e+00 - accuracy: 1.0000 - val_loss: 19.3890 - val_accuracy: 0.9144\n",
            "Epoch 84/100\n",
            "2/2 [==============================] - 0s 153ms/step - loss: 0.0000e+00 - accuracy: 1.0000 - val_loss: 19.3890 - val_accuracy: 0.9144\n",
            "Epoch 85/100\n",
            "2/2 [==============================] - 0s 144ms/step - loss: 0.0000e+00 - accuracy: 1.0000 - val_loss: 19.3890 - val_accuracy: 0.9144\n",
            "Epoch 86/100\n",
            "2/2 [==============================] - 0s 150ms/step - loss: 0.0000e+00 - accuracy: 1.0000 - val_loss: 19.3890 - val_accuracy: 0.9144\n",
            "Epoch 87/100\n",
            "2/2 [==============================] - 0s 153ms/step - loss: 0.0000e+00 - accuracy: 1.0000 - val_loss: 19.3890 - val_accuracy: 0.9144\n",
            "Epoch 88/100\n",
            "2/2 [==============================] - 0s 173ms/step - loss: 0.0000e+00 - accuracy: 1.0000 - val_loss: 19.3890 - val_accuracy: 0.9144\n",
            "Epoch 89/100\n",
            "2/2 [==============================] - 0s 150ms/step - loss: 0.0000e+00 - accuracy: 1.0000 - val_loss: 19.3890 - val_accuracy: 0.9144\n",
            "Epoch 90/100\n",
            "2/2 [==============================] - 0s 146ms/step - loss: 0.0000e+00 - accuracy: 1.0000 - val_loss: 19.3890 - val_accuracy: 0.9144\n",
            "Epoch 91/100\n",
            "2/2 [==============================] - 0s 146ms/step - loss: 0.0000e+00 - accuracy: 1.0000 - val_loss: 19.3890 - val_accuracy: 0.9144\n",
            "Epoch 92/100\n",
            "2/2 [==============================] - 0s 160ms/step - loss: 0.0000e+00 - accuracy: 1.0000 - val_loss: 19.3890 - val_accuracy: 0.9144\n",
            "Epoch 93/100\n",
            "2/2 [==============================] - 0s 145ms/step - loss: 0.0000e+00 - accuracy: 1.0000 - val_loss: 19.3890 - val_accuracy: 0.9144\n",
            "Epoch 94/100\n",
            "2/2 [==============================] - 0s 149ms/step - loss: 0.0000e+00 - accuracy: 1.0000 - val_loss: 19.3890 - val_accuracy: 0.9144\n",
            "Epoch 95/100\n",
            "2/2 [==============================] - 0s 135ms/step - loss: 0.0000e+00 - accuracy: 1.0000 - val_loss: 19.3890 - val_accuracy: 0.9144\n",
            "Epoch 96/100\n",
            "2/2 [==============================] - 0s 131ms/step - loss: 0.0000e+00 - accuracy: 1.0000 - val_loss: 19.3890 - val_accuracy: 0.9144\n",
            "Epoch 97/100\n",
            "2/2 [==============================] - 0s 127ms/step - loss: 0.0000e+00 - accuracy: 1.0000 - val_loss: 19.3890 - val_accuracy: 0.9144\n",
            "Epoch 98/100\n",
            "2/2 [==============================] - 0s 127ms/step - loss: 0.0000e+00 - accuracy: 1.0000 - val_loss: 19.3890 - val_accuracy: 0.9144\n",
            "Epoch 99/100\n",
            "2/2 [==============================] - 0s 128ms/step - loss: 0.0000e+00 - accuracy: 1.0000 - val_loss: 19.3890 - val_accuracy: 0.9144\n",
            "Epoch 100/100\n",
            "2/2 [==============================] - 0s 129ms/step - loss: 0.0000e+00 - accuracy: 1.0000 - val_loss: 19.3890 - val_accuracy: 0.9144\n"
          ],
          "name": "stdout"
        }
      ]
    },
    {
      "cell_type": "code",
      "metadata": {
        "colab": {
          "base_uri": "https://localhost:8080/"
        },
        "id": "WS9OsdYFTGGO",
        "outputId": "5e730280-7311-45e5-9778-524ad5212ce0"
      },
      "source": [
        "_, accuracy=model.evaluate(x_test, y_test)\n",
        "print('Accuracy: %.2f' % (accuracy*100))"
      ],
      "execution_count": 80,
      "outputs": [
        {
          "output_type": "stream",
          "text": [
            "10/10 [==============================] - 0s 12ms/step - loss: 19.3890 - accuracy: 0.9144\n",
            "Accuracy: 91.44\n"
          ],
          "name": "stdout"
        }
      ]
    }
  ]
}